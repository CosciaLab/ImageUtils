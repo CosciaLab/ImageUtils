{
 "cells": [
  {
   "cell_type": "code",
   "execution_count": 8,
   "metadata": {},
   "outputs": [],
   "source": [
    "#assumptions\n",
    "import tifffile\n",
    "import os\n",
    "from loguru import logger\n",
    "import argparse\n",
    "from pathlib import Path\n",
    "\n",
    "import numpy as np\n",
    "\n",
    "import xml.etree.ElementTree as ET"
   ]
  },
  {
   "cell_type": "code",
   "execution_count": 2,
   "metadata": {},
   "outputs": [],
   "source": [
    "path_to_image = \"/Users/jnimoca/Jose_BI/data/exemplar-001/output/registration/Exemplar001.ome.tif\""
   ]
  },
  {
   "cell_type": "code",
   "execution_count": 6,
   "metadata": {},
   "outputs": [],
   "source": [
    "def get_image(path_to_image):\n",
    "    \"\"\"\n",
    "    Read image and metadata from path_to_image\n",
    "    \"\"\"\n",
    "    with tifffile.TiffFile(path_to_image) as tif:\n",
    "        if tif.is_ome:\n",
    "            return tif.asarray(), tif.ome_metadata\n",
    "        else:\n",
    "            return tif.asarray(), None"
   ]
  },
  {
   "cell_type": "code",
   "execution_count": 4,
   "metadata": {},
   "outputs": [],
   "source": [
    "image, metadata = get_image(path_to_image)"
   ]
  },
  {
   "cell_type": "code",
   "execution_count": 5,
   "metadata": {},
   "outputs": [
    {
     "data": {
      "text/plain": [
       "(12, 3139, 2511)"
      ]
     },
     "execution_count": 5,
     "metadata": {},
     "output_type": "execute_result"
    }
   ],
   "source": [
    "image.shape"
   ]
  },
  {
   "cell_type": "code",
   "execution_count": 7,
   "metadata": {},
   "outputs": [
    {
     "data": {
      "text/plain": [
       "'<?xml version=\"1.0\" encoding=\"UTF-8\"?><OME xmlns=\"http://www.openmicroscopy.org/Schemas/OME/2016-06\" xmlns:xsi=\"http://www.w3.org/2001/XMLSchema-instance\" xsi:schemaLocation=\"http://www.openmicroscopy.org/Schemas/OME/2016-06 http://www.openmicroscopy.org/Schemas/OME/2016-06/ome.xsd\" UUID=\"urn:uuid:b413ac24-f26b-11ee-bbfa-0242ac110002\"  Creator=\"Ashlar v1.17.0\"><Image ID=\"Image:0\" Name=\"Image0\"><Pixels ID=\"Pixels:0\" DimensionOrder=\"XYCZT\" Type=\"uint16\" SizeX=\"2511\" SizeY=\"3139\" SizeC=\"12\" SizeZ=\"1\" SizeT=\"1\" PhysicalSizeX=\"0.6499999761581421\" PhysicalSizeXUnit=\"µm\" PhysicalSizeY=\"0.6499999761581421\" PhysicalSizeYUnit=\"µm\"><Channel ID=\"Channel:0:0\" SamplesPerPixel=\"1\"><LightPath/></Channel><Channel ID=\"Channel:0:1\" SamplesPerPixel=\"1\"><LightPath/></Channel><Channel ID=\"Channel:0:2\" SamplesPerPixel=\"1\"><LightPath/></Channel><Channel ID=\"Channel:0:3\" SamplesPerPixel=\"1\"><LightPath/></Channel><Channel ID=\"Channel:0:4\" SamplesPerPixel=\"1\"><LightPath/></Channel><Channel ID=\"Channel:0:5\" SamplesPerPixel=\"1\"><LightPath/></Channel><Channel ID=\"Channel:0:6\" SamplesPerPixel=\"1\"><LightPath/></Channel><Channel ID=\"Channel:0:7\" SamplesPerPixel=\"1\"><LightPath/></Channel><Channel ID=\"Channel:0:8\" SamplesPerPixel=\"1\"><LightPath/></Channel><Channel ID=\"Channel:0:9\" SamplesPerPixel=\"1\"><LightPath/></Channel><Channel ID=\"Channel:0:10\" SamplesPerPixel=\"1\"><LightPath/></Channel><Channel ID=\"Channel:0:11\" SamplesPerPixel=\"1\"><LightPath/></Channel><TiffData IFD=\"0\" PlaneCount=\"12\"/></Pixels></Image></OME>'"
      ]
     },
     "execution_count": 7,
     "metadata": {},
     "output_type": "execute_result"
    }
   ],
   "source": [
    "metadata"
   ]
  },
  {
   "cell_type": "code",
   "execution_count": 4,
   "metadata": {},
   "outputs": [],
   "source": [
    "path_to_subset = \"/Users/jnimoca/Jose_BI/P26_SOPA_seg/data/image_data/991_subset.ome.tif\""
   ]
  },
  {
   "cell_type": "code",
   "execution_count": 9,
   "metadata": {},
   "outputs": [],
   "source": [
    "image,metadata = get_image(path_to_subset)"
   ]
  },
  {
   "cell_type": "code",
   "execution_count": 10,
   "metadata": {},
   "outputs": [
    {
     "data": {
      "text/plain": [
       "'<?xml version=\"1.0\" encoding=\"UTF-8\" standalone=\"no\"?><!-- Warning: this comment is an OME-XML metadata block, which contains crucial dimensional parameters and other important metadata. Please edit cautiously (if at all), and back up the original data before doing so. For more information, see the OME-TIFF web site: https://docs.openmicroscopy.org/latest/ome-model/ome-tiff/. --><OME xmlns=\"http://www.openmicroscopy.org/Schemas/OME/2016-06\" xmlns:xsi=\"http://www.w3.org/2001/XMLSchema-instance\" Creator=\"OME Bio-Formats 7.0.1\" UUID=\"urn:uuid:4466abc1-4981-46d2-988d-1d8834a7936c\" xsi:schemaLocation=\"http://www.openmicroscopy.org/Schemas/OME/2016-06 http://www.openmicroscopy.org/Schemas/OME/2016-06/ome.xsd\"><Image ID=\"Image:0\"><Pixels BigEndian=\"true\" DimensionOrder=\"XYCZT\" ID=\"Pixels:0\" Interleaved=\"false\" PhysicalSizeX=\"0.34571008852182383\" PhysicalSizeXUnit=\"µm\" PhysicalSizeY=\"0.34571008852182383\" PhysicalSizeYUnit=\"µm\" SizeC=\"15\" SizeT=\"1\" SizeX=\"8000\" SizeY=\"8000\" SizeZ=\"1\" Type=\"uint16\"><Channel Color=\"-16777216\" ID=\"Channel:0:0\" Name=\"750_bg\" SamplesPerPixel=\"1\"><LightPath/></Channel><Channel Color=\"16711680\" ID=\"Channel:0:1\" Name=\"647_bg\" SamplesPerPixel=\"1\"><LightPath/></Channel><Channel Color=\"65280\" ID=\"Channel:0:2\" Name=\"555_bg\" SamplesPerPixel=\"1\"><LightPath/></Channel><Channel Color=\"-2097152\" ID=\"Channel:0:3\" Name=\"488_bg\" SamplesPerPixel=\"1\"><LightPath/></Channel><Channel Color=\"14737408\" ID=\"Channel:0:4\" Name=\"DAPI_bg\" SamplesPerPixel=\"1\"><LightPath/></Channel><Channel Color=\"-16719872\" ID=\"Channel:0:5\" Name=\"Vimentin\" SamplesPerPixel=\"1\"><LightPath/></Channel><Channel Color=\"-3407872\" ID=\"Channel:0:6\" Name=\"CD3e\" SamplesPerPixel=\"1\"><LightPath/></Channel><Channel Color=\"16772608\" ID=\"Channel:0:7\" Name=\"panCK\" SamplesPerPixel=\"1\"><LightPath/></Channel><Channel Color=\"-16716288\" ID=\"Channel:0:8\" Name=\"CD8\" SamplesPerPixel=\"1\"><LightPath/></Channel><Channel Color=\"-855703552\" ID=\"Channel:0:9\" Name=\"DAPI_1\" SamplesPerPixel=\"1\"><LightPath/></Channel><Channel Color=\"212267520\" ID=\"Channel:0:10\" Name=\"COL1A1\" SamplesPerPixel=\"1\"><LightPath/></Channel><Channel Color=\"-234060032\" ID=\"Channel:0:11\" Name=\"CD20\" SamplesPerPixel=\"1\"><LightPath/></Channel><Channel Color=\"1760693248\" ID=\"Channel:0:12\" Name=\"CD68\" SamplesPerPixel=\"1\"><LightPath/></Channel><Channel Color=\"206172672\" ID=\"Channel:0:13\" Name=\"Ki67\" SamplesPerPixel=\"1\"><LightPath/></Channel><Channel Color=\"-234083584\" ID=\"Channel:0:14\" Name=\"DAPI_2\" SamplesPerPixel=\"1\"><LightPath/></Channel><TiffData FirstC=\"0\" FirstT=\"0\" FirstZ=\"0\" IFD=\"0\" PlaneCount=\"1\"><UUID FileName=\"991_subset.ome.tif\">urn:uuid:4466abc1-4981-46d2-988d-1d8834a7936c</UUID></TiffData><TiffData FirstC=\"1\" FirstT=\"0\" FirstZ=\"0\" IFD=\"1\" PlaneCount=\"1\"><UUID FileName=\"991_subset.ome.tif\">urn:uuid:4466abc1-4981-46d2-988d-1d8834a7936c</UUID></TiffData><TiffData FirstC=\"2\" FirstT=\"0\" FirstZ=\"0\" IFD=\"2\" PlaneCount=\"1\"><UUID FileName=\"991_subset.ome.tif\">urn:uuid:4466abc1-4981-46d2-988d-1d8834a7936c</UUID></TiffData><TiffData FirstC=\"3\" FirstT=\"0\" FirstZ=\"0\" IFD=\"3\" PlaneCount=\"1\"><UUID FileName=\"991_subset.ome.tif\">urn:uuid:4466abc1-4981-46d2-988d-1d8834a7936c</UUID></TiffData><TiffData FirstC=\"4\" FirstT=\"0\" FirstZ=\"0\" IFD=\"4\" PlaneCount=\"1\"><UUID FileName=\"991_subset.ome.tif\">urn:uuid:4466abc1-4981-46d2-988d-1d8834a7936c</UUID></TiffData><TiffData FirstC=\"5\" FirstT=\"0\" FirstZ=\"0\" IFD=\"5\" PlaneCount=\"1\"><UUID FileName=\"991_subset.ome.tif\">urn:uuid:4466abc1-4981-46d2-988d-1d8834a7936c</UUID></TiffData><TiffData FirstC=\"6\" FirstT=\"0\" FirstZ=\"0\" IFD=\"6\" PlaneCount=\"1\"><UUID FileName=\"991_subset.ome.tif\">urn:uuid:4466abc1-4981-46d2-988d-1d8834a7936c</UUID></TiffData><TiffData FirstC=\"7\" FirstT=\"0\" FirstZ=\"0\" IFD=\"7\" PlaneCount=\"1\"><UUID FileName=\"991_subset.ome.tif\">urn:uuid:4466abc1-4981-46d2-988d-1d8834a7936c</UUID></TiffData><TiffData FirstC=\"8\" FirstT=\"0\" FirstZ=\"0\" IFD=\"8\" PlaneCount=\"1\"><UUID FileName=\"991_subset.ome.tif\">urn:uuid:4466abc1-4981-46d2-988d-1d8834a7936c</UUID></TiffData><TiffData FirstC=\"9\" FirstT=\"0\" FirstZ=\"0\" IFD=\"9\" PlaneCount=\"1\"><UUID FileName=\"991_subset.ome.tif\">urn:uuid:4466abc1-4981-46d2-988d-1d8834a7936c</UUID></TiffData><TiffData FirstC=\"10\" FirstT=\"0\" FirstZ=\"0\" IFD=\"10\" PlaneCount=\"1\"><UUID FileName=\"991_subset.ome.tif\">urn:uuid:4466abc1-4981-46d2-988d-1d8834a7936c</UUID></TiffData><TiffData FirstC=\"11\" FirstT=\"0\" FirstZ=\"0\" IFD=\"11\" PlaneCount=\"1\"><UUID FileName=\"991_subset.ome.tif\">urn:uuid:4466abc1-4981-46d2-988d-1d8834a7936c</UUID></TiffData><TiffData FirstC=\"12\" FirstT=\"0\" FirstZ=\"0\" IFD=\"12\" PlaneCount=\"1\"><UUID FileName=\"991_subset.ome.tif\">urn:uuid:4466abc1-4981-46d2-988d-1d8834a7936c</UUID></TiffData><TiffData FirstC=\"13\" FirstT=\"0\" FirstZ=\"0\" IFD=\"13\" PlaneCount=\"1\"><UUID FileName=\"991_subset.ome.tif\">urn:uuid:4466abc1-4981-46d2-988d-1d8834a7936c</UUID></TiffData><TiffData FirstC=\"14\" FirstT=\"0\" FirstZ=\"0\" IFD=\"14\" PlaneCount=\"1\"><UUID FileName=\"991_subset.ome.tif\">urn:uuid:4466abc1-4981-46d2-988d-1d8834a7936c</UUID></TiffData></Pixels></Image><StructuredAnnotations><MapAnnotation ID=\"Annotation:Resolution:0\" Namespace=\"openmicroscopy.org/PyramidResolution\"><Value><M K=\"1\">4000 4000</M><M K=\"2\">2000 2000</M><M K=\"3\">1000 1000</M><M K=\"4\">500 500</M></Value></MapAnnotation></StructuredAnnotations></OME>'"
      ]
     },
     "execution_count": 10,
     "metadata": {},
     "output_type": "execute_result"
    }
   ],
   "source": [
    "metadata"
   ]
  },
  {
   "cell_type": "code",
   "execution_count": 10,
   "metadata": {},
   "outputs": [
    {
     "data": {
      "text/plain": [
       "(15, 8000, 8000)"
      ]
     },
     "execution_count": 10,
     "metadata": {},
     "output_type": "execute_result"
    }
   ],
   "source": [
    "image.shape"
   ]
  },
  {
   "cell_type": "code",
   "execution_count": 3,
   "metadata": {},
   "outputs": [
    {
     "data": {
      "text/plain": [
       "{'OME': {'Image': {'ID': 'Image:0',\n",
       "   'Name': 'JoseNimo_Projection_for_Segmentation',\n",
       "   'Pixels': {'ID': 'Pixels:0',\n",
       "    'DimensionOrder': 'CYX',\n",
       "    'Type': 'uint8',\n",
       "    'PhysicalSizeX': None,\n",
       "    'PhysicalSizeXUnit': 'µm',\n",
       "    'PhysicalSizeY': None,\n",
       "    'PhysicalSizeYUnit': 'µm',\n",
       "    'Channel': [{'ID': 'Channel:0:0',\n",
       "      'Name': 'Nuclei_projection',\n",
       "      'SamplesPerPixel': '1'},\n",
       "     {'ID': 'Channel:0:1',\n",
       "      'Name': 'Membrane_projection',\n",
       "      'SamplesPerPixel': '1'}]}}}}"
      ]
     },
     "execution_count": 3,
     "metadata": {},
     "output_type": "execute_result"
    }
   ],
   "source": [
    "metadata"
   ]
  },
  {
   "cell_type": "code",
   "execution_count": 11,
   "metadata": {},
   "outputs": [],
   "source": [
    "root = ET.fromstring(metadata)"
   ]
  },
  {
   "cell_type": "code",
   "execution_count": 16,
   "metadata": {},
   "outputs": [],
   "source": [
    "#get pixel size from metadata\n",
    "for elem in root.iter():\n",
    "    if 'PhysicalSizeX' in elem.tag:\n",
    "        pixel_size_x = elem.attrib['Value']\n",
    "    if 'PhysicalSizeY' in elem.tag:\n",
    "        pixel_size_y = elem.attrib['Value']"
   ]
  },
  {
   "cell_type": "code",
   "execution_count": 15,
   "metadata": {},
   "outputs": [
    {
     "ename": "NameError",
     "evalue": "name 'pixel_size_x' is not defined",
     "output_type": "error",
     "traceback": [
      "\u001b[0;31m---------------------------------------------------------------------------\u001b[0m",
      "\u001b[0;31mNameError\u001b[0m                                 Traceback (most recent call last)",
      "Cell \u001b[0;32mIn[15], line 1\u001b[0m\n\u001b[0;32m----> 1\u001b[0m \u001b[43mpixel_size_x\u001b[49m, pixel_size_y\n",
      "\u001b[0;31mNameError\u001b[0m: name 'pixel_size_x' is not defined"
     ]
    }
   ],
   "source": [
    "pixel_size_x, pixel_size_y"
   ]
  },
  {
   "cell_type": "code",
   "execution_count": 14,
   "metadata": {},
   "outputs": [
    {
     "data": {
      "text/plain": [
       "<Element '{http://www.openmicroscopy.org/Schemas/OME/2016-06}OME' at 0x116f3efc0>"
      ]
     },
     "execution_count": 14,
     "metadata": {},
     "output_type": "execute_result"
    }
   ],
   "source": [
    "root"
   ]
  },
  {
   "cell_type": "code",
   "execution_count": 15,
   "metadata": {},
   "outputs": [
    {
     "name": "stdout",
     "output_type": "stream",
     "text": [
      "<ns0:OME xmlns:ns0=\"http://www.openmicroscopy.org/Schemas/OME/2016-06\" xmlns:xsi=\"http://www.w3.org/2001/XMLSchema-instance\" Creator=\"OME Bio-Formats 7.0.1\" UUID=\"urn:uuid:4466abc1-4981-46d2-988d-1d8834a7936c\" xsi:schemaLocation=\"http://www.openmicroscopy.org/Schemas/OME/2016-06 http://www.openmicroscopy.org/Schemas/OME/2016-06/ome.xsd\">\n",
      "  <ns0:Image ID=\"Image:0\">\n",
      "    <ns0:Pixels BigEndian=\"true\" DimensionOrder=\"XYCZT\" ID=\"Pixels:0\" Interleaved=\"false\" PhysicalSizeX=\"0.34571008852182383\" PhysicalSizeXUnit=\"µm\" PhysicalSizeY=\"0.34571008852182383\" PhysicalSizeYUnit=\"µm\" SizeC=\"15\" SizeT=\"1\" SizeX=\"8000\" SizeY=\"8000\" SizeZ=\"1\" Type=\"uint16\">\n",
      "      <ns0:Channel Color=\"-16777216\" ID=\"Channel:0:0\" Name=\"750_bg\" SamplesPerPixel=\"1\">\n",
      "        <ns0:LightPath />\n",
      "      </ns0:Channel>\n",
      "      <ns0:Channel Color=\"16711680\" ID=\"Channel:0:1\" Name=\"647_bg\" SamplesPerPixel=\"1\">\n",
      "        <ns0:LightPath />\n",
      "      </ns0:Channel>\n",
      "      <ns0:Channel Color=\"65280\" ID=\"Channel:0:2\" Name=\"555_bg\" SamplesPerPixel=\"1\">\n",
      "        <ns0:LightPath />\n",
      "      </ns0:Channel>\n",
      "      <ns0:Channel Color=\"-2097152\" ID=\"Channel:0:3\" Name=\"488_bg\" SamplesPerPixel=\"1\">\n",
      "        <ns0:LightPath />\n",
      "      </ns0:Channel>\n",
      "      <ns0:Channel Color=\"14737408\" ID=\"Channel:0:4\" Name=\"DAPI_bg\" SamplesPerPixel=\"1\">\n",
      "        <ns0:LightPath />\n",
      "      </ns0:Channel>\n",
      "      <ns0:Channel Color=\"-16719872\" ID=\"Channel:0:5\" Name=\"Vimentin\" SamplesPerPixel=\"1\">\n",
      "        <ns0:LightPath />\n",
      "      </ns0:Channel>\n",
      "      <ns0:Channel Color=\"-3407872\" ID=\"Channel:0:6\" Name=\"CD3e\" SamplesPerPixel=\"1\">\n",
      "        <ns0:LightPath />\n",
      "      </ns0:Channel>\n",
      "      <ns0:Channel Color=\"16772608\" ID=\"Channel:0:7\" Name=\"panCK\" SamplesPerPixel=\"1\">\n",
      "        <ns0:LightPath />\n",
      "      </ns0:Channel>\n",
      "      <ns0:Channel Color=\"-16716288\" ID=\"Channel:0:8\" Name=\"CD8\" SamplesPerPixel=\"1\">\n",
      "        <ns0:LightPath />\n",
      "      </ns0:Channel>\n",
      "      <ns0:Channel Color=\"-855703552\" ID=\"Channel:0:9\" Name=\"DAPI_1\" SamplesPerPixel=\"1\">\n",
      "        <ns0:LightPath />\n",
      "      </ns0:Channel>\n",
      "      <ns0:Channel Color=\"212267520\" ID=\"Channel:0:10\" Name=\"COL1A1\" SamplesPerPixel=\"1\">\n",
      "        <ns0:LightPath />\n",
      "      </ns0:Channel>\n",
      "      <ns0:Channel Color=\"-234060032\" ID=\"Channel:0:11\" Name=\"CD20\" SamplesPerPixel=\"1\">\n",
      "        <ns0:LightPath />\n",
      "      </ns0:Channel>\n",
      "      <ns0:Channel Color=\"1760693248\" ID=\"Channel:0:12\" Name=\"CD68\" SamplesPerPixel=\"1\">\n",
      "        <ns0:LightPath />\n",
      "      </ns0:Channel>\n",
      "      <ns0:Channel Color=\"206172672\" ID=\"Channel:0:13\" Name=\"Ki67\" SamplesPerPixel=\"1\">\n",
      "        <ns0:LightPath />\n",
      "      </ns0:Channel>\n",
      "      <ns0:Channel Color=\"-234083584\" ID=\"Channel:0:14\" Name=\"DAPI_2\" SamplesPerPixel=\"1\">\n",
      "        <ns0:LightPath />\n",
      "      </ns0:Channel>\n",
      "      <ns0:TiffData FirstC=\"0\" FirstT=\"0\" FirstZ=\"0\" IFD=\"0\" PlaneCount=\"1\">\n",
      "        <ns0:UUID FileName=\"991_subset.ome.tif\">urn:uuid:4466abc1-4981-46d2-988d-1d8834a7936c</ns0:UUID>\n",
      "      </ns0:TiffData>\n",
      "      <ns0:TiffData FirstC=\"1\" FirstT=\"0\" FirstZ=\"0\" IFD=\"1\" PlaneCount=\"1\">\n",
      "        <ns0:UUID FileName=\"991_subset.ome.tif\">urn:uuid:4466abc1-4981-46d2-988d-1d8834a7936c</ns0:UUID>\n",
      "      </ns0:TiffData>\n",
      "      <ns0:TiffData FirstC=\"2\" FirstT=\"0\" FirstZ=\"0\" IFD=\"2\" PlaneCount=\"1\">\n",
      "        <ns0:UUID FileName=\"991_subset.ome.tif\">urn:uuid:4466abc1-4981-46d2-988d-1d8834a7936c</ns0:UUID>\n",
      "      </ns0:TiffData>\n",
      "      <ns0:TiffData FirstC=\"3\" FirstT=\"0\" FirstZ=\"0\" IFD=\"3\" PlaneCount=\"1\">\n",
      "        <ns0:UUID FileName=\"991_subset.ome.tif\">urn:uuid:4466abc1-4981-46d2-988d-1d8834a7936c</ns0:UUID>\n",
      "      </ns0:TiffData>\n",
      "      <ns0:TiffData FirstC=\"4\" FirstT=\"0\" FirstZ=\"0\" IFD=\"4\" PlaneCount=\"1\">\n",
      "        <ns0:UUID FileName=\"991_subset.ome.tif\">urn:uuid:4466abc1-4981-46d2-988d-1d8834a7936c</ns0:UUID>\n",
      "      </ns0:TiffData>\n",
      "      <ns0:TiffData FirstC=\"5\" FirstT=\"0\" FirstZ=\"0\" IFD=\"5\" PlaneCount=\"1\">\n",
      "        <ns0:UUID FileName=\"991_subset.ome.tif\">urn:uuid:4466abc1-4981-46d2-988d-1d8834a7936c</ns0:UUID>\n",
      "      </ns0:TiffData>\n",
      "      <ns0:TiffData FirstC=\"6\" FirstT=\"0\" FirstZ=\"0\" IFD=\"6\" PlaneCount=\"1\">\n",
      "        <ns0:UUID FileName=\"991_subset.ome.tif\">urn:uuid:4466abc1-4981-46d2-988d-1d8834a7936c</ns0:UUID>\n",
      "      </ns0:TiffData>\n",
      "      <ns0:TiffData FirstC=\"7\" FirstT=\"0\" FirstZ=\"0\" IFD=\"7\" PlaneCount=\"1\">\n",
      "        <ns0:UUID FileName=\"991_subset.ome.tif\">urn:uuid:4466abc1-4981-46d2-988d-1d8834a7936c</ns0:UUID>\n",
      "      </ns0:TiffData>\n",
      "      <ns0:TiffData FirstC=\"8\" FirstT=\"0\" FirstZ=\"0\" IFD=\"8\" PlaneCount=\"1\">\n",
      "        <ns0:UUID FileName=\"991_subset.ome.tif\">urn:uuid:4466abc1-4981-46d2-988d-1d8834a7936c</ns0:UUID>\n",
      "      </ns0:TiffData>\n",
      "      <ns0:TiffData FirstC=\"9\" FirstT=\"0\" FirstZ=\"0\" IFD=\"9\" PlaneCount=\"1\">\n",
      "        <ns0:UUID FileName=\"991_subset.ome.tif\">urn:uuid:4466abc1-4981-46d2-988d-1d8834a7936c</ns0:UUID>\n",
      "      </ns0:TiffData>\n",
      "      <ns0:TiffData FirstC=\"10\" FirstT=\"0\" FirstZ=\"0\" IFD=\"10\" PlaneCount=\"1\">\n",
      "        <ns0:UUID FileName=\"991_subset.ome.tif\">urn:uuid:4466abc1-4981-46d2-988d-1d8834a7936c</ns0:UUID>\n",
      "      </ns0:TiffData>\n",
      "      <ns0:TiffData FirstC=\"11\" FirstT=\"0\" FirstZ=\"0\" IFD=\"11\" PlaneCount=\"1\">\n",
      "        <ns0:UUID FileName=\"991_subset.ome.tif\">urn:uuid:4466abc1-4981-46d2-988d-1d8834a7936c</ns0:UUID>\n",
      "      </ns0:TiffData>\n",
      "      <ns0:TiffData FirstC=\"12\" FirstT=\"0\" FirstZ=\"0\" IFD=\"12\" PlaneCount=\"1\">\n",
      "        <ns0:UUID FileName=\"991_subset.ome.tif\">urn:uuid:4466abc1-4981-46d2-988d-1d8834a7936c</ns0:UUID>\n",
      "      </ns0:TiffData>\n",
      "      <ns0:TiffData FirstC=\"13\" FirstT=\"0\" FirstZ=\"0\" IFD=\"13\" PlaneCount=\"1\">\n",
      "        <ns0:UUID FileName=\"991_subset.ome.tif\">urn:uuid:4466abc1-4981-46d2-988d-1d8834a7936c</ns0:UUID>\n",
      "      </ns0:TiffData>\n",
      "      <ns0:TiffData FirstC=\"14\" FirstT=\"0\" FirstZ=\"0\" IFD=\"14\" PlaneCount=\"1\">\n",
      "        <ns0:UUID FileName=\"991_subset.ome.tif\">urn:uuid:4466abc1-4981-46d2-988d-1d8834a7936c</ns0:UUID>\n",
      "      </ns0:TiffData>\n",
      "    </ns0:Pixels>\n",
      "  </ns0:Image>\n",
      "  <ns0:StructuredAnnotations>\n",
      "    <ns0:MapAnnotation ID=\"Annotation:Resolution:0\" Namespace=\"openmicroscopy.org/PyramidResolution\">\n",
      "      <ns0:Value>\n",
      "        <ns0:M K=\"1\">4000 4000</ns0:M>\n",
      "        <ns0:M K=\"2\">2000 2000</ns0:M>\n",
      "        <ns0:M K=\"3\">1000 1000</ns0:M>\n",
      "        <ns0:M K=\"4\">500 500</ns0:M>\n",
      "      </ns0:Value>\n",
      "    </ns0:MapAnnotation>\n",
      "  </ns0:StructuredAnnotations>\n",
      "</ns0:OME>\n"
     ]
    }
   ],
   "source": [
    "tree = ET.ElementTree(root)\n",
    "ET.indent(tree, space=\"  \")\n",
    "ET.dump(tree)"
   ]
  },
  {
   "cell_type": "code",
   "execution_count": 17,
   "metadata": {},
   "outputs": [],
   "source": [
    "import ome_types\n",
    "\n",
    "try:\n",
    "    metadata = ome_types.from_tiff(path_to_subset)\n",
    "    pixel_size = metadata.images[0].pixels.physical_size_x\n",
    "except:\n",
    "    pixel_size = None"
   ]
  },
  {
   "cell_type": "code",
   "execution_count": 18,
   "metadata": {},
   "outputs": [
    {
     "data": {
      "text/plain": [
       "0.34571008852182383"
      ]
     },
     "execution_count": 18,
     "metadata": {},
     "output_type": "execute_result"
    }
   ],
   "source": [
    "pixel_size"
   ]
  },
  {
   "cell_type": "code",
   "execution_count": 19,
   "metadata": {},
   "outputs": [
    {
     "data": {
      "text/plain": [
       "OME(\n",
       "   images=[<1 field_type>],\n",
       "   structured_annotations={'map_annotations': [{'id': 'Annotation:Resolution:0', 'namespace': 'openmicroscopy.org/PyramidResolution', 'value': {'1': '4000 4000', '2': '2000 2000', '3': '1000 1000', '4': '500 500'}, 'kind': 'mapannotation'}]},\n",
       "   uuid='urn:uuid:4466abc1-4981-46d2-988d-1d8834a7936c',\n",
       "   creator='OME Bio-Formats 7.0.1',\n",
       ")"
      ]
     },
     "execution_count": 19,
     "metadata": {},
     "output_type": "execute_result"
    }
   ],
   "source": [
    "metadata"
   ]
  },
  {
   "cell_type": "code",
   "execution_count": 2,
   "metadata": {},
   "outputs": [],
   "source": [
    "try:\n",
    "    metadata = ome_types.from_tiff(path_to_subset)\n",
    "    pixel_size = metadata.images[0].pixels.physical_size_x\n",
    "except:\n",
    "    pixel_size = None\n",
    "\n",
    "metadata = {\n",
    "    'OME': {\n",
    "        'Image': {\n",
    "            'ID': 'Image:0',\n",
    "            'Name': 'JoseNimo_Projection_for_Segmentation',\n",
    "            'Pixels': {\n",
    "                'ID': 'Pixels:0',\n",
    "                'DimensionOrder': 'CYX',\n",
    "                'Type': 'uint8',\n",
    "                \"PhysicalSizeX\": pixel_size,\n",
    "                \"PhysicalSizeXUnit\": \"\\u00b5m\",\n",
    "                \"PhysicalSizeY\": pixel_size,\n",
    "                \"PhysicalSizeYUnit\": \"\\u00b5m\",\n",
    "                'Channel': [\n",
    "                    {'ID': 'Channel:0:0', 'Name': 'Nuclei_projection', 'SamplesPerPixel': '1'},\n",
    "                    {'ID': 'Channel:0:1', 'Name': 'Membrane_projection', 'SamplesPerPixel': '1'},\n",
    "                ]\n",
    "            }\n",
    "        }\n",
    "    }\n",
    "}"
   ]
  }
 ],
 "metadata": {
  "kernelspec": {
   "display_name": "BIA2",
   "language": "python",
   "name": "python3"
  },
  "language_info": {
   "codemirror_mode": {
    "name": "ipython",
    "version": 3
   },
   "file_extension": ".py",
   "mimetype": "text/x-python",
   "name": "python",
   "nbconvert_exporter": "python",
   "pygments_lexer": "ipython3",
   "version": "3.10.14"
  }
 },
 "nbformat": 4,
 "nbformat_minor": 2
}
